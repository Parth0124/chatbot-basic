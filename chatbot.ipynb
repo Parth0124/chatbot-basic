{
 "cells": [
  {
   "cell_type": "code",
   "execution_count": 1,
   "metadata": {},
   "outputs": [
    {
     "data": {
      "text/plain": [
       "'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'"
      ]
     },
     "execution_count": 1,
     "metadata": {},
     "output_type": "execute_result"
    }
   ],
   "source": [
    "import os\n",
    "from dotenv import load_dotenv\n",
    "load_dotenv()\n",
    "\n",
    "import openai\n",
    "openai.api_key = os.getenv('OPENAI_API_KEY')\n",
    "\n",
    "groq_api_key = os.getenv(\"GROQ_API_KEY\")\n",
    "groq_api_key"
   ]
  },
  {
   "cell_type": "code",
   "execution_count": 2,
   "metadata": {},
   "outputs": [
    {
     "data": {
      "text/plain": [
       "ChatGroq(client=<groq.resources.chat.completions.Completions object at 0x1111211d0>, async_client=<groq.resources.chat.completions.AsyncCompletions object at 0x110aae290>, model_name='Gemma2-9b-It', model_kwargs={}, groq_api_key=SecretStr('**********'))"
      ]
     },
     "execution_count": 2,
     "metadata": {},
     "output_type": "execute_result"
    }
   ],
   "source": [
    "from langchain_groq import ChatGroq\n",
    "model = ChatGroq(model='Gemma2-9b-It', groq_api_key=groq_api_key)\n",
    "model"
   ]
  },
  {
   "cell_type": "code",
   "execution_count": 3,
   "metadata": {},
   "outputs": [
    {
     "data": {
      "text/plain": [
       "AIMessage(content=\"Hi Parth, it's nice to meet you!\\n\\nThat's awesome that you're a data scientist. What kind of work do you do?  \\n\\nI'm always interested in learning more about how people use data to solve problems and make discoveries.\\n\", additional_kwargs={}, response_metadata={'token_usage': {'completion_tokens': 58, 'prompt_tokens': 22, 'total_tokens': 80, 'completion_time': 0.105454545, 'prompt_time': 0.000470208, 'queue_time': 0.020946089, 'total_time': 0.105924753}, 'model_name': 'Gemma2-9b-It', 'system_fingerprint': 'fp_10c08bf97d', 'finish_reason': 'stop', 'logprobs': None}, id='run-ebc83e6c-e3ab-42ad-9a93-46c0219c9fb4-0', usage_metadata={'input_tokens': 22, 'output_tokens': 58, 'total_tokens': 80})"
      ]
     },
     "execution_count": 3,
     "metadata": {},
     "output_type": "execute_result"
    }
   ],
   "source": [
    "from langchain_core.messages import HumanMessage\n",
    "model.invoke([HumanMessage(content = \"Hi, My name is Parth! I am a data scientist\")])"
   ]
  },
  {
   "cell_type": "code",
   "execution_count": 4,
   "metadata": {},
   "outputs": [
    {
     "data": {
      "text/plain": [
       "AIMessage(content=\"You are Parth, and you are a data scientist!  \\n\\nIs there anything else you'd like to tell me about yourself or your work? 😊  \\n\", additional_kwargs={}, response_metadata={'token_usage': {'completion_tokens': 36, 'prompt_tokens': 99, 'total_tokens': 135, 'completion_time': 0.065454545, 'prompt_time': 0.003437588, 'queue_time': 0.021496141000000003, 'total_time': 0.068892133}, 'model_name': 'Gemma2-9b-It', 'system_fingerprint': 'fp_10c08bf97d', 'finish_reason': 'stop', 'logprobs': None}, id='run-66e0a568-5162-4e96-96c5-21c1959e7455-0', usage_metadata={'input_tokens': 99, 'output_tokens': 36, 'total_tokens': 135})"
      ]
     },
     "execution_count": 4,
     "metadata": {},
     "output_type": "execute_result"
    }
   ],
   "source": [
    "from langchain_core.messages import AIMessage\n",
    "model.invoke(\n",
    "    [\n",
    "        HumanMessage(content = \"Hi, My name is Parth! I am a data scientist\"),\n",
    "        AIMessage(content = \"Hi Parth, it's nice to meet you!\\n\\nThat's awesome that you're a data scientist. What kind of work do you do?  \\n\\nI'm always interested in learning more about how people use data to solve problems and make discoveries.\\n\"),\n",
    "        HumanMessage(content = \"IWhat is my name and what do i do?\"),\n",
    "    ])"
   ]
  },
  {
   "cell_type": "code",
   "execution_count": 6,
   "metadata": {},
   "outputs": [],
   "source": [
    "from langchain_community.chat_message_histories import ChatMessageHistory\n",
    "from langchain_core.chat_history import BaseChatMessageHistory\n",
    "from langchain_core.runnables.history import RunnableWithMessageHistory"
   ]
  },
  {
   "cell_type": "code",
   "execution_count": 8,
   "metadata": {},
   "outputs": [],
   "source": [
    "## To differentiate between the chat history and the session history\n",
    "\n",
    "store = {}\n",
    "\n",
    "def get_session_history(session_id: str) -> BaseChatMessageHistory:\n",
    "    if session_id not in store:\n",
    "        store[session_id] = ChatMessageHistory()\n",
    "    return store[session_id]\n",
    "\n",
    "with_msg_history = RunnableWithMessageHistory(model,get_session_history)"
   ]
  },
  {
   "cell_type": "code",
   "execution_count": 9,
   "metadata": {},
   "outputs": [],
   "source": [
    "config = { 'configurable': {\"session_id\":\"chat_1\"}}"
   ]
  },
  {
   "cell_type": "code",
   "execution_count": 10,
   "metadata": {},
   "outputs": [],
   "source": [
    "response = with_msg_history.invoke(\n",
    "        [\n",
    "            HumanMessage(content = \"Hi, My name is Parth! I am a data scientist\"),\n",
    "        ], config=config\n",
    "    )"
   ]
  },
  {
   "cell_type": "code",
   "execution_count": 11,
   "metadata": {},
   "outputs": [
    {
     "data": {
      "text/plain": [
       "\"Hello Parth! It's nice to meet you. \\n\\nI'm glad to know you're a data scientist. That's a fascinating field! \\n\\nWhat kind of data science work do you enjoy doing? Do you have any projects you're particularly proud of? \\n\\nI'm always eager to learn more about what people are doing with data.\\n\""
      ]
     },
     "execution_count": 11,
     "metadata": {},
     "output_type": "execute_result"
    }
   ],
   "source": [
    "response.content"
   ]
  },
  {
   "cell_type": "code",
   "execution_count": 12,
   "metadata": {},
   "outputs": [
    {
     "data": {
      "text/plain": [
       "AIMessage(content=\"You told me your name is Parth, and you're a data scientist! \\n\\nIs there anything else you'd like to tell me about yourself or your work? I'm happy to chat. 😊  \\n\\n\", additional_kwargs={}, response_metadata={'token_usage': {'completion_tokens': 49, 'prompt_tokens': 122, 'total_tokens': 171, 'completion_time': 0.089090909, 'prompt_time': 0.004715304, 'queue_time': 0.020762336, 'total_time': 0.093806213}, 'model_name': 'Gemma2-9b-It', 'system_fingerprint': 'fp_10c08bf97d', 'finish_reason': 'stop', 'logprobs': None}, id='run-19c4017e-55d9-47d1-9336-a05bb093801b-0', usage_metadata={'input_tokens': 122, 'output_tokens': 49, 'total_tokens': 171})"
      ]
     },
     "execution_count": 12,
     "metadata": {},
     "output_type": "execute_result"
    }
   ],
   "source": [
    "with_msg_history.invoke(\n",
    "        [\n",
    "            HumanMessage(content = \"Hey, What is my name and what do i do?\"),\n",
    "        ], config=config\n",
    "    )"
   ]
  },
  {
   "cell_type": "code",
   "execution_count": 13,
   "metadata": {},
   "outputs": [],
   "source": [
    "### Change the config session\n",
    "\n",
    "config1 = { 'configurable': {\"session_id\":\"chat_1\"}}\n",
    "response = with_msg_history.invoke(\n",
    "    [\n",
    "        HumanMessage(content = \"Hey, What is my name and what do i do?\"),\n",
    "    ], config=config1\n",
    ")"
   ]
  },
  {
   "cell_type": "code",
   "execution_count": 14,
   "metadata": {},
   "outputs": [
    {
     "data": {
      "text/plain": [
       "\"You said your name is Parth, and you're a data scientist!  \\n\\nDo you want to tell me more about what you do as a data scientist? I'm interested to learn! 😊  \\n\""
      ]
     },
     "execution_count": 14,
     "metadata": {},
     "output_type": "execute_result"
    }
   ],
   "source": [
    "response.content"
   ]
  },
  {
   "cell_type": "code",
   "execution_count": 15,
   "metadata": {},
   "outputs": [],
   "source": [
    "### Change the config session\n",
    "\n",
    "config1 = { 'configurable': {\"session_id\":\"chat_2\"}}      ## Changed the session id\n",
    "response = with_msg_history.invoke( \n",
    "    [\n",
    "        HumanMessage(content = \"Hey, What is my name and what do i do?\"),\n",
    "    ], config=config1\n",
    ")"
   ]
  },
  {
   "cell_type": "code",
   "execution_count": 16,
   "metadata": {},
   "outputs": [
    {
     "data": {
      "text/plain": [
       "\"As an AI, I have no memory of past conversations and no access to personal information about you, including your name or what you do.\\n\\nIf you'd like to tell me your name and what you do, I'd be happy to know! 😊  \\n\\n\""
      ]
     },
     "execution_count": 16,
     "metadata": {},
     "output_type": "execute_result"
    }
   ],
   "source": [
    "response.content"
   ]
  },
  {
   "cell_type": "code",
   "execution_count": 20,
   "metadata": {},
   "outputs": [],
   "source": [
    "### Change the config session\n",
    "\n",
    "config1 = { 'configurable': {\"session_id\":\"chat_2\"}}\n",
    "response = with_msg_history.invoke(\n",
    "    [\n",
    "        HumanMessage(content = \"Hey, My name is Walter White also known as Heisenberg. I am a high school chemistry teacher in J. P. Wynne High School, Mexico who turned into a methamphetamine manufacturer\"),\n",
    "    ], config=config1\n",
    ")"
   ]
  },
  {
   "cell_type": "code",
   "execution_count": 21,
   "metadata": {},
   "outputs": [],
   "source": [
    "### Change the config session\n",
    "\n",
    "config1 = { 'configurable': {\"session_id\":\"chat_2\"}}\n",
    "response = with_msg_history.invoke(\n",
    "    [\n",
    "        HumanMessage(content = \"Hey, What is my name?\"),\n",
    "    ], config=config1\n",
    ")"
   ]
  },
  {
   "cell_type": "code",
   "execution_count": 22,
   "metadata": {},
   "outputs": [
    {
     "data": {
      "text/plain": [
       "\"You told me your name is Walter White, also known as Heisenberg. \\n\\nIs there anything else I can help you with, Heisenberg?  Perhaps you'd like to discuss the intricacies of crystal meth production, or the challenges of evading the authorities in Mexico?  Just remember, I'm an AI, so I can't offer any real-world advice on illegal activities. 😉 \\n\\n\\n\""
      ]
     },
     "execution_count": 22,
     "metadata": {},
     "output_type": "execute_result"
    }
   ],
   "source": [
    "response.content"
   ]
  },
  {
   "cell_type": "code",
   "execution_count": 23,
   "metadata": {},
   "outputs": [],
   "source": [
    "### Change the config session\n",
    "\n",
    "config1 = { 'configurable': {\"session_id\":\"chat_2\"}}\n",
    "response = with_msg_history.invoke(\n",
    "    [\n",
    "        HumanMessage(content = \"Hey, What do i do?\"),\n",
    "    ], config=config1\n",
    ")"
   ]
  },
  {
   "cell_type": "code",
   "execution_count": 24,
   "metadata": {},
   "outputs": [
    {
     "data": {
      "text/plain": [
       "\"You told me you're Walter White, a high school chemistry teacher in J.P. Wynne High School, Mexico, who turned into a methamphetamine manufacturer.  \\n\\nSo, you're Heisenberg, cookin' up blue sky in the land of tacos and tequila!  \\n\\nAnything else you want to share, Heisenberg? \\n\\n\\n\\n\\n\""
      ]
     },
     "execution_count": 24,
     "metadata": {},
     "output_type": "execute_result"
    }
   ],
   "source": [
    "response.content"
   ]
  },
  {
   "cell_type": "code",
   "execution_count": 25,
   "metadata": {},
   "outputs": [],
   "source": [
    "### Change the config session\n",
    "\n",
    "config1 = { 'configurable': {\"session_id\":\"chat_2\"}}\n",
    "response = with_msg_history.invoke(\n",
    "    [\n",
    "        HumanMessage(content = \"Hey, Where do i work?\"),\n",
    "    ], config=config1\n",
    ")"
   ]
  },
  {
   "cell_type": "code",
   "execution_count": 26,
   "metadata": {},
   "outputs": [
    {
     "data": {
      "text/plain": [
       "\"You said you're a chemistry teacher at J.P. Wynne High School in Mexico. \\n\\nSo,  you're probably spending your days mixing beakers and lecturing on the periodic table, but maybe your evenings are a bit... more exciting.  \\n\\n\\n\\n\""
      ]
     },
     "execution_count": 26,
     "metadata": {},
     "output_type": "execute_result"
    }
   ],
   "source": [
    "response.content"
   ]
  },
  {
   "cell_type": "code",
   "execution_count": null,
   "metadata": {},
   "outputs": [],
   "source": []
  }
 ],
 "metadata": {
  "kernelspec": {
   "display_name": "Python 3",
   "language": "python",
   "name": "python3"
  },
  "language_info": {
   "codemirror_mode": {
    "name": "ipython",
    "version": 3
   },
   "file_extension": ".py",
   "mimetype": "text/x-python",
   "name": "python",
   "nbconvert_exporter": "python",
   "pygments_lexer": "ipython3",
   "version": "3.11.0"
  }
 },
 "nbformat": 4,
 "nbformat_minor": 2
}
