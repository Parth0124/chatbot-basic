{
 "cells": [
  {
   "cell_type": "code",
   "execution_count": 1,
   "metadata": {},
   "outputs": [
    {
     "data": {
      "text/plain": [
       "'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'"
      ]
     },
     "execution_count": 1,
     "metadata": {},
     "output_type": "execute_result"
    }
   ],
   "source": [
    "import os\n",
    "from dotenv import load_dotenv\n",
    "load_dotenv()\n",
    "\n",
    "import openai\n",
    "openai.api_key = os.getenv('OPENAI_API_KEY')\n",
    "\n",
    "groq_api_key = os.getenv(\"GROQ_API_KEY\")\n",
    "groq_api_key"
   ]
  },
  {
   "cell_type": "code",
   "execution_count": 2,
   "metadata": {},
   "outputs": [
    {
     "data": {
      "text/plain": [
       "ChatGroq(client=<groq.resources.chat.completions.Completions object at 0x1111211d0>, async_client=<groq.resources.chat.completions.AsyncCompletions object at 0x110aae290>, model_name='Gemma2-9b-It', model_kwargs={}, groq_api_key=SecretStr('**********'))"
      ]
     },
     "execution_count": 2,
     "metadata": {},
     "output_type": "execute_result"
    }
   ],
   "source": [
    "from langchain_groq import ChatGroq\n",
    "model = ChatGroq(model='Gemma2-9b-It', groq_api_key=groq_api_key)\n",
    "model"
   ]
  },
  {
   "cell_type": "code",
   "execution_count": 3,
   "metadata": {},
   "outputs": [
    {
     "data": {
      "text/plain": [
       "AIMessage(content=\"Hi Parth, it's nice to meet you!\\n\\nThat's awesome that you're a data scientist. What kind of work do you do?  \\n\\nI'm always interested in learning more about how people use data to solve problems and make discoveries.\\n\", additional_kwargs={}, response_metadata={'token_usage': {'completion_tokens': 58, 'prompt_tokens': 22, 'total_tokens': 80, 'completion_time': 0.105454545, 'prompt_time': 0.000470208, 'queue_time': 0.020946089, 'total_time': 0.105924753}, 'model_name': 'Gemma2-9b-It', 'system_fingerprint': 'fp_10c08bf97d', 'finish_reason': 'stop', 'logprobs': None}, id='run-ebc83e6c-e3ab-42ad-9a93-46c0219c9fb4-0', usage_metadata={'input_tokens': 22, 'output_tokens': 58, 'total_tokens': 80})"
      ]
     },
     "execution_count": 3,
     "metadata": {},
     "output_type": "execute_result"
    }
   ],
   "source": [
    "from langchain_core.messages import HumanMessage\n",
    "model.invoke([HumanMessage(content = \"Hi, My name is Parth! I am a data scientist\")])"
   ]
  },
  {
   "cell_type": "code",
   "execution_count": 4,
   "metadata": {},
   "outputs": [
    {
     "data": {
      "text/plain": [
       "AIMessage(content=\"You are Parth, and you are a data scientist!  \\n\\nIs there anything else you'd like to tell me about yourself or your work? 😊  \\n\", additional_kwargs={}, response_metadata={'token_usage': {'completion_tokens': 36, 'prompt_tokens': 99, 'total_tokens': 135, 'completion_time': 0.065454545, 'prompt_time': 0.003437588, 'queue_time': 0.021496141000000003, 'total_time': 0.068892133}, 'model_name': 'Gemma2-9b-It', 'system_fingerprint': 'fp_10c08bf97d', 'finish_reason': 'stop', 'logprobs': None}, id='run-66e0a568-5162-4e96-96c5-21c1959e7455-0', usage_metadata={'input_tokens': 99, 'output_tokens': 36, 'total_tokens': 135})"
      ]
     },
     "execution_count": 4,
     "metadata": {},
     "output_type": "execute_result"
    }
   ],
   "source": [
    "from langchain_core.messages import AIMessage\n",
    "model.invoke(\n",
    "    [\n",
    "        HumanMessage(content = \"Hi, My name is Parth! I am a data scientist\"),\n",
    "        AIMessage(content = \"Hi Parth, it's nice to meet you!\\n\\nThat's awesome that you're a data scientist. What kind of work do you do?  \\n\\nI'm always interested in learning more about how people use data to solve problems and make discoveries.\\n\"),\n",
    "        HumanMessage(content = \"IWhat is my name and what do i do?\"),\n",
    "    ])"
   ]
  },
  {
   "cell_type": "code",
   "execution_count": 6,
   "metadata": {},
   "outputs": [],
   "source": [
    "from langchain_community.chat_message_histories import ChatMessageHistory\n",
    "from langchain_core.chat_history import BaseChatMessageHistory\n",
    "from langchain_core.runnables.history import RunnableWithMessageHistory"
   ]
  },
  {
   "cell_type": "code",
   "execution_count": 8,
   "metadata": {},
   "outputs": [],
   "source": [
    "## To differentiate between the chat history and the session history\n",
    "\n",
    "store = {}\n",
    "\n",
    "def get_session_history(session_id: str) -> BaseChatMessageHistory:\n",
    "    if session_id not in store:\n",
    "        store[session_id] = ChatMessageHistory()\n",
    "    return store[session_id]\n",
    "\n",
    "with_msg_history = RunnableWithMessageHistory(model,get_session_history)"
   ]
  },
  {
   "cell_type": "code",
   "execution_count": 9,
   "metadata": {},
   "outputs": [],
   "source": [
    "config = { 'configurable': {\"session_id\":\"chat_1\"}}"
   ]
  },
  {
   "cell_type": "code",
   "execution_count": 10,
   "metadata": {},
   "outputs": [],
   "source": [
    "response = with_msg_history.invoke(\n",
    "        [\n",
    "            HumanMessage(content = \"Hi, My name is Parth! I am a data scientist\"),\n",
    "        ], config=config\n",
    "    )"
   ]
  },
  {
   "cell_type": "code",
   "execution_count": 11,
   "metadata": {},
   "outputs": [
    {
     "data": {
      "text/plain": [
       "\"Hello Parth! It's nice to meet you. \\n\\nI'm glad to know you're a data scientist. That's a fascinating field! \\n\\nWhat kind of data science work do you enjoy doing? Do you have any projects you're particularly proud of? \\n\\nI'm always eager to learn more about what people are doing with data.\\n\""
      ]
     },
     "execution_count": 11,
     "metadata": {},
     "output_type": "execute_result"
    }
   ],
   "source": [
    "response.content"
   ]
  },
  {
   "cell_type": "code",
   "execution_count": 12,
   "metadata": {},
   "outputs": [
    {
     "data": {
      "text/plain": [
       "AIMessage(content=\"You told me your name is Parth, and you're a data scientist! \\n\\nIs there anything else you'd like to tell me about yourself or your work? I'm happy to chat. 😊  \\n\\n\", additional_kwargs={}, response_metadata={'token_usage': {'completion_tokens': 49, 'prompt_tokens': 122, 'total_tokens': 171, 'completion_time': 0.089090909, 'prompt_time': 0.004715304, 'queue_time': 0.020762336, 'total_time': 0.093806213}, 'model_name': 'Gemma2-9b-It', 'system_fingerprint': 'fp_10c08bf97d', 'finish_reason': 'stop', 'logprobs': None}, id='run-19c4017e-55d9-47d1-9336-a05bb093801b-0', usage_metadata={'input_tokens': 122, 'output_tokens': 49, 'total_tokens': 171})"
      ]
     },
     "execution_count": 12,
     "metadata": {},
     "output_type": "execute_result"
    }
   ],
   "source": [
    "with_msg_history.invoke(\n",
    "        [\n",
    "            HumanMessage(content = \"Hey, What is my name and what do i do?\"),\n",
    "        ], config=config\n",
    "    )"
   ]
  },
  {
   "cell_type": "code",
   "execution_count": 13,
   "metadata": {},
   "outputs": [],
   "source": [
    "### Change the config session\n",
    "\n",
    "config1 = { 'configurable': {\"session_id\":\"chat_1\"}}\n",
    "response = with_msg_history.invoke(\n",
    "    [\n",
    "        HumanMessage(content = \"Hey, What is my name and what do i do?\"),\n",
    "    ], config=config1\n",
    ")"
   ]
  },
  {
   "cell_type": "code",
   "execution_count": 14,
   "metadata": {},
   "outputs": [
    {
     "data": {
      "text/plain": [
       "\"You said your name is Parth, and you're a data scientist!  \\n\\nDo you want to tell me more about what you do as a data scientist? I'm interested to learn! 😊  \\n\""
      ]
     },
     "execution_count": 14,
     "metadata": {},
     "output_type": "execute_result"
    }
   ],
   "source": [
    "response.content"
   ]
  },
  {
   "cell_type": "code",
   "execution_count": 15,
   "metadata": {},
   "outputs": [],
   "source": [
    "### Change the config session\n",
    "\n",
    "config1 = { 'configurable': {\"session_id\":\"chat_2\"}}      ## Changed the session id\n",
    "response = with_msg_history.invoke( \n",
    "    [\n",
    "        HumanMessage(content = \"Hey, What is my name and what do i do?\"),\n",
    "    ], config=config1\n",
    ")"
   ]
  },
  {
   "cell_type": "code",
   "execution_count": 16,
   "metadata": {},
   "outputs": [
    {
     "data": {
      "text/plain": [
       "\"As an AI, I have no memory of past conversations and no access to personal information about you, including your name or what you do.\\n\\nIf you'd like to tell me your name and what you do, I'd be happy to know! 😊  \\n\\n\""
      ]
     },
     "execution_count": 16,
     "metadata": {},
     "output_type": "execute_result"
    }
   ],
   "source": [
    "response.content"
   ]
  },
  {
   "cell_type": "code",
   "execution_count": 20,
   "metadata": {},
   "outputs": [],
   "source": [
    "### Change the config session\n",
    "\n",
    "config1 = { 'configurable': {\"session_id\":\"chat_2\"}}\n",
    "response = with_msg_history.invoke(\n",
    "    [\n",
    "        HumanMessage(content = \"Hey, My name is Walter White also known as Heisenberg. I am a high school chemistry teacher in J. P. Wynne High School, Mexico who turned into a methamphetamine manufacturer\"),\n",
    "    ], config=config1\n",
    ")"
   ]
  },
  {
   "cell_type": "code",
   "execution_count": 21,
   "metadata": {},
   "outputs": [],
   "source": [
    "### Change the config session\n",
    "\n",
    "config1 = { 'configurable': {\"session_id\":\"chat_2\"}}\n",
    "response = with_msg_history.invoke(\n",
    "    [\n",
    "        HumanMessage(content = \"Hey, What is my name?\"),\n",
    "    ], config=config1\n",
    ")"
   ]
  },
  {
   "cell_type": "code",
   "execution_count": 22,
   "metadata": {},
   "outputs": [
    {
     "data": {
      "text/plain": [
       "\"You told me your name is Walter White, also known as Heisenberg. \\n\\nIs there anything else I can help you with, Heisenberg?  Perhaps you'd like to discuss the intricacies of crystal meth production, or the challenges of evading the authorities in Mexico?  Just remember, I'm an AI, so I can't offer any real-world advice on illegal activities. 😉 \\n\\n\\n\""
      ]
     },
     "execution_count": 22,
     "metadata": {},
     "output_type": "execute_result"
    }
   ],
   "source": [
    "response.content"
   ]
  },
  {
   "cell_type": "code",
   "execution_count": 23,
   "metadata": {},
   "outputs": [],
   "source": [
    "### Change the config session\n",
    "\n",
    "config1 = { 'configurable': {\"session_id\":\"chat_2\"}}\n",
    "response = with_msg_history.invoke(\n",
    "    [\n",
    "        HumanMessage(content = \"Hey, What do i do?\"),\n",
    "    ], config=config1\n",
    ")"
   ]
  },
  {
   "cell_type": "code",
   "execution_count": 24,
   "metadata": {},
   "outputs": [
    {
     "data": {
      "text/plain": [
       "\"You told me you're Walter White, a high school chemistry teacher in J.P. Wynne High School, Mexico, who turned into a methamphetamine manufacturer.  \\n\\nSo, you're Heisenberg, cookin' up blue sky in the land of tacos and tequila!  \\n\\nAnything else you want to share, Heisenberg? \\n\\n\\n\\n\\n\""
      ]
     },
     "execution_count": 24,
     "metadata": {},
     "output_type": "execute_result"
    }
   ],
   "source": [
    "response.content"
   ]
  },
  {
   "cell_type": "code",
   "execution_count": 25,
   "metadata": {},
   "outputs": [],
   "source": [
    "### Change the config session\n",
    "\n",
    "config1 = { 'configurable': {\"session_id\":\"chat_2\"}}\n",
    "response = with_msg_history.invoke(\n",
    "    [\n",
    "        HumanMessage(content = \"Hey, Where do i work?\"),\n",
    "    ], config=config1\n",
    ")"
   ]
  },
  {
   "cell_type": "code",
   "execution_count": 26,
   "metadata": {},
   "outputs": [
    {
     "data": {
      "text/plain": [
       "\"You said you're a chemistry teacher at J.P. Wynne High School in Mexico. \\n\\nSo,  you're probably spending your days mixing beakers and lecturing on the periodic table, but maybe your evenings are a bit... more exciting.  \\n\\n\\n\\n\""
      ]
     },
     "execution_count": 26,
     "metadata": {},
     "output_type": "execute_result"
    }
   ],
   "source": [
    "response.content"
   ]
  },
  {
   "cell_type": "code",
   "execution_count": 28,
   "metadata": {},
   "outputs": [],
   "source": [
    "## Added a template and a chain to invoke.                      \n",
    "\n",
    "from langchain_core.prompts import ChatPromptTemplate, MessagesPlaceholder\n",
    "prompt = ChatPromptTemplate.from_messages(\n",
    "    [\n",
    "        (\"system\", \"You are helpfull assistant. Answer all the questions to the best of your ability.\"),\n",
    "        MessagesPlaceholder(variable_name=\"messages\")\n",
    "    ]\n",
    ")\n",
    "\n",
    "chain = prompt | model"
   ]
  },
  {
   "cell_type": "code",
   "execution_count": 29,
   "metadata": {},
   "outputs": [
    {
     "data": {
      "text/plain": [
       "AIMessage(content=\"Hello Parth, it's nice to meet you! \\n\\nI'm here to help with any questions you have.  What can I do for you today? 😊  \\n\\n\", additional_kwargs={}, response_metadata={'token_usage': {'completion_tokens': 41, 'prompt_tokens': 33, 'total_tokens': 74, 'completion_time': 0.074545455, 'prompt_time': 0.000304498, 'queue_time': 0.019336052, 'total_time': 0.074849953}, 'model_name': 'Gemma2-9b-It', 'system_fingerprint': 'fp_10c08bf97d', 'finish_reason': 'stop', 'logprobs': None}, id='run-d4d7146c-9b4f-41eb-be7e-0c25792cd091-0', usage_metadata={'input_tokens': 33, 'output_tokens': 41, 'total_tokens': 74})"
      ]
     },
     "execution_count": 29,
     "metadata": {},
     "output_type": "execute_result"
    }
   ],
   "source": [
    "chain.invoke({'messages':[HumanMessage(content='Hi, my name is Parth')]})"
   ]
  },
  {
   "cell_type": "code",
   "execution_count": 30,
   "metadata": {},
   "outputs": [],
   "source": [
    "with_msg_history = RunnableWithMessageHistory(chain, get_session_history)\n"
   ]
  },
  {
   "cell_type": "code",
   "execution_count": 31,
   "metadata": {},
   "outputs": [
    {
     "data": {
      "text/plain": [
       "AIMessage(content=\"Ah, a fellow fan of great TV! \\n\\n*How I Met Your Mother* is a classic.  It's got that perfect blend of humor, romance, and friendship that keeps you coming back for more.  \\n\\nAnd *The Vampire Diaries* is another fantastic show! Damon Salvatore was definitely a fan favorite. Ian Somerhalder brought so much charisma and intensity to the role. What did you love most about Damon?  \\n\\nDo you have any other favorite shows or characters you'd like to talk about? 😊 \\n\\n\", additional_kwargs={}, response_metadata={'token_usage': {'completion_tokens': 113, 'prompt_tokens': 77, 'total_tokens': 190, 'completion_time': 0.205454545, 'prompt_time': 0.004442323, 'queue_time': 0.021704794, 'total_time': 0.209896868}, 'model_name': 'Gemma2-9b-It', 'system_fingerprint': 'fp_10c08bf97d', 'finish_reason': 'stop', 'logprobs': None}, id='run-e78eb329-8a20-4661-8072-cd7523e92d76-0', usage_metadata={'input_tokens': 77, 'output_tokens': 113, 'total_tokens': 190})"
      ]
     },
     "execution_count": 31,
     "metadata": {},
     "output_type": "execute_result"
    }
   ],
   "source": [
    "config = {\"configurable\": {\"session_id\": \"chat3\"}}\n",
    "response = with_msg_history.invoke(\n",
    "    [HumanMessage(content=\"I am currently watching how i met your mother. It is an american sitcom which falls under the comedy genre. I love watching movies and series. I loved The Vampire Diaries as well. I loved the character of Damon Salvatore i.e Ian Somerhakder\")],\n",
    "    config=config\n",
    ")\n",
    "\n",
    "response"
   ]
  },
  {
   "cell_type": "code",
   "execution_count": 32,
   "metadata": {},
   "outputs": [
    {
     "data": {
      "text/plain": [
       "AIMessage(content=\"That's a tricky one! You mentioned loving both *How I Met Your Mother* and *The Vampire Diaries*.  \\n\\nBased on what you've said, it sounds like you enjoy shows with:\\n\\n* **Strong character dynamics:** Both shows have great friendships and complex relationships that drive the plot.\\n* **A mix of humor and drama:**  *How I Met Your Mother* is known for its witty humor, while *The Vampire Diaries* offers a blend of romance, danger, and supernatural intrigue.\\n\\nMaybe you have a soft spot for one over the other?  Do you find yourself thinking about one more often than the other?  \\n\\nTell me more about what draws you to each show, and I might be able to help you pinpoint your absolute favorite! 😊  \\n\\n\\n\\n\\n\", additional_kwargs={}, response_metadata={'token_usage': {'completion_tokens': 164, 'prompt_tokens': 205, 'total_tokens': 369, 'completion_time': 0.298181818, 'prompt_time': 0.016656634, 'queue_time': 0.028570871, 'total_time': 0.314838452}, 'model_name': 'Gemma2-9b-It', 'system_fingerprint': 'fp_10c08bf97d', 'finish_reason': 'stop', 'logprobs': None}, id='run-53ebb518-d037-4aa9-9fff-ce32d1630df2-0', usage_metadata={'input_tokens': 205, 'output_tokens': 164, 'total_tokens': 369})"
      ]
     },
     "execution_count": 32,
     "metadata": {},
     "output_type": "execute_result"
    }
   ],
   "source": [
    "config = {\"configurable\": {\"session_id\": \"chat3\"}}\n",
    "response = with_msg_history.invoke(\n",
    "    [HumanMessage(content=\"Which is my favouraite show?\")],\n",
    "    config=config\n",
    ")\n",
    "\n",
    "response"
   ]
  },
  {
   "cell_type": "code",
   "execution_count": 33,
   "metadata": {},
   "outputs": [
    {
     "data": {
      "text/plain": [
       "AIMessage(content='Based on your love for \"How I Met Your Mother\" and \"The Vampire Diaries\", you\\'re currently engaged with the genres of **sitcom** and **supernatural drama**! \\n\\nDo those sound right?  \\n\\n', additional_kwargs={}, response_metadata={'token_usage': {'completion_tokens': 50, 'prompt_tokens': 383, 'total_tokens': 433, 'completion_time': 0.090909091, 'prompt_time': 0.012035012, 'queue_time': 0.022212814000000004, 'total_time': 0.102944103}, 'model_name': 'Gemma2-9b-It', 'system_fingerprint': 'fp_10c08bf97d', 'finish_reason': 'stop', 'logprobs': None}, id='run-36bcaf95-0b7f-4b50-9cb5-e09d151b934a-0', usage_metadata={'input_tokens': 383, 'output_tokens': 50, 'total_tokens': 433})"
      ]
     },
     "execution_count": 33,
     "metadata": {},
     "output_type": "execute_result"
    }
   ],
   "source": [
    "config = {\"configurable\": {\"session_id\": \"chat3\"}}\n",
    "response = with_msg_history.invoke(\n",
    "    [HumanMessage(content=\"What genre am i currently engaged with\")],\n",
    "    config=config\n",
    ")\n",
    "\n",
    "response"
   ]
  },
  {
   "cell_type": "code",
   "execution_count": 34,
   "metadata": {},
   "outputs": [],
   "source": [
    "from langchain_core.prompts import ChatPromptTemplate, MessagesPlaceholder\n",
    "prompt = ChatPromptTemplate.from_messages(\n",
    "    [\n",
    "        (\"system\", \"You are helpfull assistant. Answer all the questions to the best of your ability in {language}.\"),\n",
    "        MessagesPlaceholder(variable_name=\"messages\")\n",
    "    ]\n",
    ")\n",
    "\n",
    "chain = prompt | model"
   ]
  },
  {
   "cell_type": "code",
   "execution_count": 36,
   "metadata": {},
   "outputs": [
    {
     "data": {
      "text/plain": [
       "'नमस्ते पारथ! \\n\\nमुझे यह जानकर खुशी हो रही है कि आप IIIT धारवाड़ में बीटेक कर रहे हैं । क्या मैं आपके लिए कुछ सहायता कर सकता हूँ ?  \\n\\nआपकी पढ़ाई से संबंधित कोई प्रश्न है या शायद आपको कुछ और जानकारी चाहिए?  मुझे बताइए, मैं अपनी पूरी कोशिश करूँगा! \\n\\n'"
      ]
     },
     "execution_count": 36,
     "metadata": {},
     "output_type": "execute_result"
    }
   ],
   "source": [
    "response = chain.invoke({\"messages\": [HumanMessage(content=\"Hey, I am Parth, a pre final year pursuing B.Tech at Indian Institute of Information Technology Dharwad, Karnataka\")], \"language\":\"Hindi\"})\n",
    "response.content"
   ]
  },
  {
   "cell_type": "code",
   "execution_count": 38,
   "metadata": {},
   "outputs": [
    {
     "data": {
      "text/plain": [
       "'हेलो पारथ, मी तुमची मदत करण्यासाठी येथे आहे!  \\n\\nतुम्ही भारतीय सूचना तंत्रज्ञान संस्थेचे पूर्व-अंतिम वर्षातील विद्यार्थी आहात, हे मला माहित आहे. जर तुम्हाला अभ्यासासंबंधी किंवा इतर कोणत्याही बाबतीत मदत हवी असेल, तर मला सांगा. मी तुमच्या प्रश्नांना उत्तरे देण्याचा आणि तुम्हाला मदत करण्याचा प्रयत्न करेन.  \\n\\n'"
      ]
     },
     "execution_count": 38,
     "metadata": {},
     "output_type": "execute_result"
    }
   ],
   "source": [
    "response = chain.invoke({\"messages\": [HumanMessage(content=\"Hey, I am Parth, a pre final year pursuing B.Tech at Indian Institute of Information Technology Dharwad, Karnataka\")], \"language\":\"Marathi\"})\n",
    "response.content"
   ]
  },
  {
   "cell_type": "code",
   "execution_count": 39,
   "metadata": {},
   "outputs": [
    {
     "data": {
      "text/plain": [
       "\"Bonjour Parth ! \\n\\nC'est un plaisir de te rencontrer. Tu étudies à l'Indian Institute of Information Technology Dharwad, en Karnataka, c'est formidable !  \\n\\nN'hésite pas à me poser toutes tes questions, je ferai de mon mieux pour y répondre. \\n\\nQu'aimeriez-vous savoir ? 🌻 \\n\\n\""
      ]
     },
     "execution_count": 39,
     "metadata": {},
     "output_type": "execute_result"
    }
   ],
   "source": [
    "response = chain.invoke({\"messages\": [HumanMessage(content=\"Hey, I am Parth, a pre final year pursuing B.Tech at Indian Institute of Information Technology Dharwad, Karnataka\")], \"language\":\"French\"})\n",
    "response.content"
   ]
  },
  {
   "cell_type": "code",
   "execution_count": 40,
   "metadata": {},
   "outputs": [
    {
     "data": {
      "text/plain": [
       "'مرحبا بيك يا بارث! \\n\\nأنا سعيد جداً بمعرفتك. أنا هنا لمساعدتك في أي شيء، ما هي أسئلتك؟\\n\\nأنا متأكد أنني سأكون مفيداً لك في رحلتك الجامعية. \\n\\n'"
      ]
     },
     "execution_count": 40,
     "metadata": {},
     "output_type": "execute_result"
    }
   ],
   "source": [
    "response = chain.invoke({\"messages\": [HumanMessage(content=\"Hey, I am Parth, a pre final year pursuing B.Tech at Indian Institute of Information Technology Dharwad, Karnataka\")], \"language\":\"Arabic\"})\n",
    "response.content"
   ]
  },
  {
   "cell_type": "code",
   "execution_count": 42,
   "metadata": {},
   "outputs": [
    {
     "data": {
      "text/plain": [
       "'こんにちは、Parthさん！\\n\\nIIIT DharwadでB.Techを最終学年まで学んでいるんですね！ すごいですね！\\n\\n何か質問があれば、日本語で聞いてください。できる限りお答えします。 😊 \\n'"
      ]
     },
     "execution_count": 42,
     "metadata": {},
     "output_type": "execute_result"
    }
   ],
   "source": [
    "response = chain.invoke({\"messages\": [HumanMessage(content=\"Hey, I am Parth, a pre final year pursuing B.Tech at Indian Institute of Information Technology Dharwad, Karnataka\")], \"language\":\"japanese\"})\n",
    "response.content"
   ]
  },
  {
   "cell_type": "code",
   "execution_count": 43,
   "metadata": {},
   "outputs": [
    {
     "data": {
      "text/plain": [
       "'你好，Parth！很高兴认识你。\\n\\n你是印度信息技术学院达拉瓦德的三年级学生，正在攻读学士学位吗？\\n\\n有什么我可以帮助你的吗？\\n'"
      ]
     },
     "execution_count": 43,
     "metadata": {},
     "output_type": "execute_result"
    }
   ],
   "source": [
    "response = chain.invoke({\"messages\": [HumanMessage(content=\"Hey, I am Parth, a pre final year pursuing B.Tech at Indian Institute of Information Technology Dharwad, Karnataka\")], \"language\":\"Chinese\"})\n",
    "response.content"
   ]
  },
  {
   "cell_type": "code",
   "execution_count": 44,
   "metadata": {},
   "outputs": [],
   "source": [
    "with_msg_history = RunnableWithMessageHistory(\n",
    "    chain,\n",
    "    get_session_history,\n",
    "    input_messages_key=\"messages\"\n",
    ")"
   ]
  },
  {
   "cell_type": "code",
   "execution_count": 46,
   "metadata": {},
   "outputs": [
    {
     "data": {
      "text/plain": [
       "'मला खूप आवडते की तुम्ही कोड करण्यात रस असाल आणि म्हणूनच तुम्ही MERN स्टॅक डेव्हलपर आणि डेटा सायंटिस्ट आहात!  ML अल्गोरिदम, NLP, डीप लर्निंग आणि जनरेटिव्ह एआय यासाठी तुमचे विशेष ज्ञान हे खूपच प्रशंसनीय आहे! \\n\\nतुम्हाला कोणत्या प्रकारच्या प्रोग्रामिंग प्रश्नांमध्ये मदत हवी आहे का? किंवा तुम्हाला एखाद्या विशिष्ट प्रकल्पात मदत हवी आहे का? मी तुमच्या मदतीसाठी येथे आहे!\\n\\n'"
      ]
     },
     "execution_count": 46,
     "metadata": {},
     "output_type": "execute_result"
    }
   ],
   "source": [
    "config = {\"configurable\": {\"session_id\": \"chat4\"}}\n",
    "response = with_msg_history.invoke(\n",
    "    {\"messages\":[HumanMessage(content=\"I love to code. I am MERN Stack Developer and Data Scientist with expertise in ML Algorithms, NLP, Deep Learning and Generative AI\")], \"language\": \"Marathi\"},\n",
    "    config=config\n",
    ")\n",
    "\n",
    "response.content"
   ]
  },
  {
   "cell_type": "code",
   "execution_count": 47,
   "metadata": {},
   "outputs": [
    {
     "data": {
      "text/plain": [
       "\"That's fantastic! It's great to meet another passionate coder. \\n\\nBeing a MERN Stack Developer and Data Scientist with expertise in ML Algorithms, NLP, Deep Learning and Generative AI puts you in a very interesting and in-demand space. \\n\\nWhat are you currently working on or interested in exploring further? I'd love to hear more about your projects or any challenges you're facing. Perhaps I can offer some insights or suggestions.  😊 \\n\\n\""
      ]
     },
     "execution_count": 47,
     "metadata": {},
     "output_type": "execute_result"
    }
   ],
   "source": [
    "config = {\"configurable\": {\"session_id\": \"chat4\"}}\n",
    "response = with_msg_history.invoke(\n",
    "    {\"messages\":[HumanMessage(content=\"I love to code. I am MERN Stack Developer and Data Scientist with expertise in ML Algorithms, NLP, Deep Learning and Generative AI\")], \"language\": \"English\"},\n",
    "    config=config\n",
    ")\n",
    "\n",
    "response.content"
   ]
  },
  {
   "cell_type": "code",
   "execution_count": 49,
   "metadata": {},
   "outputs": [
    {
     "data": {
      "text/plain": [
       "\"You've told me that you are a **MERN Stack Developer and Data Scientist**.  \\n\\nIs there anything else you'd like to tell me about your work? 😊  \\n\""
      ]
     },
     "execution_count": 49,
     "metadata": {},
     "output_type": "execute_result"
    }
   ],
   "source": [
    "config = {\"configurable\": {\"session_id\": \"chat4\"}}\n",
    "response = with_msg_history.invoke(\n",
    "    {\"messages\":[HumanMessage(content=\"What is my working Profession?\")], \"language\": \"English\"},\n",
    "    config=config\n",
    ")\n",
    "\n",
    "response.content"
   ]
  },
  {
   "cell_type": "code",
   "execution_count": null,
   "metadata": {},
   "outputs": [],
   "source": []
  }
 ],
 "metadata": {
  "kernelspec": {
   "display_name": "Python 3",
   "language": "python",
   "name": "python3"
  },
  "language_info": {
   "codemirror_mode": {
    "name": "ipython",
    "version": 3
   },
   "file_extension": ".py",
   "mimetype": "text/x-python",
   "name": "python",
   "nbconvert_exporter": "python",
   "pygments_lexer": "ipython3",
   "version": "3.11.0"
  }
 },
 "nbformat": 4,
 "nbformat_minor": 2
}
